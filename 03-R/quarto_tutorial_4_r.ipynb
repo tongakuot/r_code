{
  "cells": [
    {
      "cell_type": "raw",
      "metadata": {},
      "source": [
        "---\n",
        "title: \"Quarto Tutorial 4 - R\"\n",
        "author: \"Alier Reng\"\n",
        "date: \"05/02/2022\"\n",
        "date-format: full\n",
        "format: \n",
        "   html:\n",
        "    smooth-scroll: true\n",
        "    toc: true\n",
        "    code-fold: true\n",
        "    code-overflow: wrap\n",
        "    fig-align: \"center\"\n",
        "    \n",
        "editor: visual\n",
        "---"
      ],
      "id": "3df5600d"
    },
    {
      "cell_type": "markdown",
      "metadata": {},
      "source": [
        "## Introduction\n",
        "\n",
        "I recently shared tutorials on using `Quarto`, *the next generation of `RMarkdown`,* and `Murtada Khalafall` asked me to do a `Quarto` tutorial with `R`.\n",
        "So, this tutorial is the `R` version of my previous `Quarto` tutorial 3.\n",
        "`yaml` options are the same for both `R` and `Python`, except that the `jupyter` is set to *`Python`* *(jupyter: python3)* when using `Python` for data analysis.\n",
        "\n",
        "![Quarto yaml when using Python](images/quarto_yaml_python.png)\n",
        "\n",
        "## Quarto\n",
        "\n",
        "> Quarto enables you to weave together content and executable code into a finished document.\n",
        "> To learn more about Quarto see <https://quarto.org>."
      ],
      "id": "33feba5c"
    },
    {
      "cell_type": "code",
      "metadata": {},
      "source": [
        "from math import pi, e\n",
        "\n",
        "print(f'pi, rounded to 3 decimal places, is {pi:.3f}.')\n",
        "print(f'e, rounded to 3 decimal places, is {e\n",
        ":\n",
        "`3f}.')\n"
      ],
      "id": "359dc430",
      "execution_count": null,
      "outputs": []
    },
    {
      "cell_type": "code",
      "metadata": {},
      "source": [
        "print(f'Alier Reng 630 St. Andrews Dr Apt. H204 Murfreesboro, TN 37128 USA')"
      ],
      "id": "41d5bb14",
      "execution_count": null,
      "outputs": []
    }
  ],
  "metadata": {
    "kernelspec": {
      "name": "python397jvsc74a57bd01e9cc44d6a4d96e4466daba360358c634e6aec3eb9f68a59eed70bc6345acd6f",
      "language": "python",
      "display_name": "Python 3.9.7 64-bit ('stats_mathsenv': conda)"
    }
  },
  "nbformat": 4,
  "nbformat_minor": 5
}